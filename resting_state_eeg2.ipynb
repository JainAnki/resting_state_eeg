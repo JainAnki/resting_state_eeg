{
 "cells": [
  {
   "cell_type": "markdown",
   "metadata": {},
   "source": [
    "Import all the relevant stuff"
   ]
  },
  {
   "cell_type": "code",
   "execution_count": 1,
   "metadata": {},
   "outputs": [
    {
     "name": "stderr",
     "output_type": "stream",
     "text": [
      "/home/richard/anaconda3/lib/python2.7/site-packages/statsmodels/compat/pandas.py:56: FutureWarning: The pandas.core.datetools module is deprecated and will be removed in a future version. Please use the pandas.tseries module instead.\n",
      "  from pandas.core import datetools\n"
     ]
    }
   ],
   "source": [
    "# eeg analysis libraries\n",
    "import mne\n",
    "\n",
    "# import plotting libraries\n",
    "from matplotlib import pyplot as plt\n",
    "# python version of ggplot:\n",
    "from plotnine import *\n",
    "\n",
    "# numerical libraries\n",
    "import numpy as np\n",
    "import pandas as pd\n",
    "\n",
    "# import tqdm for a progress bar:\n",
    "try:\n",
    "    from tqdm import tqdm_notebook as tqdm\n",
    "except:\n",
    "    from tqdm import tqdm\n",
    "\n",
    "# import file path operators\n",
    "from pathlib import Path\n",
    "import os\n",
    "\n",
    "# avoid MNE being too verbose\n",
    "mne.set_log_level('INFO')"
   ]
  },
  {
   "cell_type": "markdown",
   "metadata": {},
   "source": [
    "List all files"
   ]
  },
  {
   "cell_type": "code",
   "execution_count": 2,
   "metadata": {},
   "outputs": [
    {
     "data": {
      "text/plain": [
       "True"
      ]
     },
     "execution_count": 2,
     "metadata": {},
     "output_type": "execute_result"
    }
   ],
   "source": [
    "import data\n",
    "hasattr(data, 'raws')"
   ]
  },
  {
   "cell_type": "code",
   "execution_count": 3,
   "metadata": {},
   "outputs": [
    {
     "name": "stdout",
     "output_type": "stream",
     "text": [
      "{'group': 'ASC', 'pid': '0015'}\n",
      "{'group': 'ASC', 'pid': '0027'}\n",
      "{'group': 'ASC', 'pid': '0028'}\n",
      "{'group': 'ASC', 'pid': '0029'}\n",
      "{'group': 'ASC', 'pid': '0031'}\n",
      "{'group': 'ASC', 'pid': '0032'}\n",
      "{'group': 'ASC', 'pid': '0033'}\n",
      "{'group': 'ASC', 'pid': '0034'}\n",
      "{'group': 'ASC', 'pid': '0035'}\n",
      "{'group': 'ASC', 'pid': '0036'}\n",
      "{'group': 'ASC', 'pid': '0042'}\n",
      "{'group': 'ASC', 'pid': '0044'}\n",
      "{'group': 'ASC', 'pid': '0045'}\n",
      "{'group': 'ASC', 'pid': '0052'}\n",
      "{'group': 'ASC', 'pid': '0068'}\n",
      "{'group': 'ASC', 'pid': '067-'}\n",
      "{'group': 'CTR', 'pid': '0001'}\n",
      "{'group': 'CTR', 'pid': '0002'}\n",
      "{'group': 'CTR', 'pid': '0003'}\n",
      "{'group': 'CTR', 'pid': '0004'}\n",
      "{'group': 'CTR', 'pid': '0005'}\n",
      "{'group': 'CTR', 'pid': '0006'}\n",
      "{'group': 'CTR', 'pid': '0007'}\n",
      "{'group': 'CTR', 'pid': '0008'}\n",
      "{'group': 'CTR', 'pid': '0009'}\n",
      "{'group': 'CTR', 'pid': '0010'}\n",
      "{'group': 'CTR', 'pid': '0011'}\n",
      "{'group': 'CTR', 'pid': '0012'}\n",
      "{'group': 'CTR', 'pid': '0013'}\n",
      "{'group': 'CTR', 'pid': '0014'}\n",
      "{'group': 'CTR', 'pid': '0016'}\n",
      "{'group': 'CTR', 'pid': '0017'}\n",
      "{'group': 'CTR', 'pid': '0019'}\n",
      "{'group': 'CTR', 'pid': '0020'}\n",
      "{'group': 'CTR', 'pid': '0021'}\n",
      "{'group': 'CTR', 'pid': '0022'}\n",
      "{'group': 'CTR', 'pid': '0023'}\n",
      "{'group': 'CTR', 'pid': '0024'}\n",
      "{'group': 'CTR', 'pid': '0025'}\n",
      "{'group': 'CTR', 'pid': '0026'}\n",
      "{'group': 'CTR', 'pid': '0030'}\n",
      "{'group': 'CTR', 'pid': '0037'}\n",
      "{'group': 'CTR', 'pid': '0038'}\n",
      "{'group': 'CTR', 'pid': '0039'}\n",
      "{'group': 'CTR', 'pid': '0040'}\n",
      "{'group': 'CTR', 'pid': '0041'}\n",
      "{'group': 'CTR', 'pid': '0043'}\n",
      "{'group': 'CTR', 'pid': '0046'}\n",
      "{'group': 'CTR', 'pid': '0047'}\n",
      "{'group': 'CTR', 'pid': '0048'}\n",
      "{'group': 'CTR', 'pid': '0049'}\n",
      "{'group': 'CTR', 'pid': '0050'}\n",
      "{'group': 'CTR', 'pid': '0051'}\n",
      "{'group': 'CTR', 'pid': '0053'}\n",
      "{'group': 'CTR', 'pid': '0055'}\n",
      "{'group': 'CTR', 'pid': '0056'}\n",
      "{'group': 'CTR', 'pid': '0057'}\n",
      "{'group': 'CTR', 'pid': '0062'}\n",
      "{'group': 'CTR', 'pid': '0063'}\n",
      "{'group': 'CTR', 'pid': '0065'}\n",
      "{'group': 'CTR', 'pid': '0066'}\n",
      "{'group': 'CTR', 'pid': '0069'}\n",
      "{'group': 'CTR', 'pid': '0070'}\n",
      "{'group': 'CTR', 'pid': '0071'}\n",
      "{'group': 'CTR', 'pid': '0072'}\n",
      "{'group': 'CTR', 'pid': '0073'}\n",
      "{'group': 'CTR', 'pid': '0074'}\n",
      "{'group': 'CTR', 'pid': '0075'}\n"
     ]
    }
   ],
   "source": [
    "from data import raws, events, n\n",
    "\n",
    "for raw in raws():\n",
    "    print(raw.info['subject_info'])"
   ]
  },
  {
   "cell_type": "markdown",
   "metadata": {},
   "source": [
    "Run preprocessing"
   ]
  },
  {
   "cell_type": "code",
   "execution_count": 4,
   "metadata": {
    "scrolled": false
   },
   "outputs": [
    {
     "name": "stdout",
     "output_type": "stream",
     "text": [
      "[[    272 6750208 6815744]\n",
      " [  79409 6815641 6815642]\n",
      " [ 140782 6815642 6815643]\n",
      " [ 202152 6815641 6815642]\n",
      " [ 263730 6815642 6815744]]\n",
      "[6750208 6815641 6815642 6815641 6815642]\n",
      "[6815744 6815642 6815643 6815642 6815744]\n"
     ]
    },
    {
     "name": "stderr",
     "output_type": "stream",
     "text": [
      "data/__init__.py:44: UserWarning: Expected 4 events, but got 5\n",
      "  warnings.warn(\"Expected 4 events, but got {events}\".format(events=eventarray.shape[0]))\n"
     ]
    },
    {
     "ename": "ValueError",
     "evalue": "cannot copy sequence with size 4 to array axis with dimension 5",
     "output_type": "error",
     "traceback": [
      "\u001b[0;31m---------------------------------------------------------------------------\u001b[0m",
      "\u001b[0;31mValueError\u001b[0m                                Traceback (most recent call last)",
      "\u001b[0;32m<ipython-input-4-e4bc581d0008>\u001b[0m in \u001b[0;36m<module>\u001b[0;34m()\u001b[0m\n\u001b[1;32m      2\u001b[0m \u001b[0msegment_length\u001b[0m \u001b[0;34m=\u001b[0m \u001b[0;36m4\u001b[0m\u001b[0;34m\u001b[0m\u001b[0m\n\u001b[1;32m      3\u001b[0m \u001b[0;34m\u001b[0m\u001b[0m\n\u001b[0;32m----> 4\u001b[0;31m \u001b[0;32mfor\u001b[0m \u001b[0mraw\u001b[0m\u001b[0;34m,\u001b[0m \u001b[0mevent\u001b[0m \u001b[0;32min\u001b[0m \u001b[0mtqdm\u001b[0m\u001b[0;34m(\u001b[0m\u001b[0mzip\u001b[0m\u001b[0;34m(\u001b[0m\u001b[0mraws\u001b[0m\u001b[0;34m(\u001b[0m\u001b[0;34m)\u001b[0m\u001b[0;34m,\u001b[0m \u001b[0mevents\u001b[0m\u001b[0;34m(\u001b[0m\u001b[0;34m)\u001b[0m\u001b[0;34m)\u001b[0m\u001b[0;34m,\u001b[0m \u001b[0mtotal\u001b[0m\u001b[0;34m=\u001b[0m\u001b[0mn\u001b[0m\u001b[0;34m)\u001b[0m\u001b[0;34m:\u001b[0m\u001b[0;34m\u001b[0m\u001b[0m\n\u001b[0m\u001b[1;32m      5\u001b[0m \u001b[0;34m\u001b[0m\u001b[0m\n\u001b[1;32m      6\u001b[0m     \u001b[0moriginal_frequency\u001b[0m \u001b[0;34m=\u001b[0m \u001b[0mraw\u001b[0m\u001b[0;34m.\u001b[0m\u001b[0minfo\u001b[0m\u001b[0;34m[\u001b[0m\u001b[0;34m'sfreq'\u001b[0m\u001b[0;34m]\u001b[0m\u001b[0;34m\u001b[0m\u001b[0m\n",
      "\u001b[0;32m/home/richard/GitHub/resting_state_eeg/data/__init__.py\u001b[0m in \u001b[0;36mevents\u001b[0;34m()\u001b[0m\n\u001b[1;32m     47\u001b[0m         \u001b[0;31m# 101 = eyes open, 102 = eyes closed\u001b[0m\u001b[0;34m\u001b[0m\u001b[0;34m\u001b[0m\u001b[0m\n\u001b[1;32m     48\u001b[0m         \u001b[0meventarray\u001b[0m\u001b[0;34m[\u001b[0m\u001b[0;34m:\u001b[0m\u001b[0;34m,\u001b[0m \u001b[0;36m1\u001b[0m\u001b[0;34m]\u001b[0m \u001b[0;34m=\u001b[0m \u001b[0;36m0\u001b[0m\u001b[0;34m\u001b[0m\u001b[0m\n\u001b[0;32m---> 49\u001b[0;31m         \u001b[0meventarray\u001b[0m\u001b[0;34m[\u001b[0m\u001b[0;34m:\u001b[0m\u001b[0;34m,\u001b[0m \u001b[0;36m2\u001b[0m\u001b[0;34m]\u001b[0m \u001b[0;34m=\u001b[0m \u001b[0;34m[\u001b[0m\u001b[0;36m101\u001b[0m\u001b[0;34m,\u001b[0m \u001b[0;36m102\u001b[0m\u001b[0;34m,\u001b[0m \u001b[0;36m101\u001b[0m\u001b[0;34m,\u001b[0m \u001b[0;36m102\u001b[0m\u001b[0;34m]\u001b[0m\u001b[0;34m\u001b[0m\u001b[0m\n\u001b[0m\u001b[1;32m     50\u001b[0m \u001b[0;34m\u001b[0m\u001b[0m\n\u001b[1;32m     51\u001b[0m         \u001b[0;32myield\u001b[0m \u001b[0meventarray\u001b[0m\u001b[0;34m\u001b[0m\u001b[0m\n",
      "\u001b[0;31mValueError\u001b[0m: cannot copy sequence with size 4 to array axis with dimension 5"
     ]
    }
   ],
   "source": [
    "# length of segments over which analysis is run:\n",
    "segment_length = 4\n",
    "\n",
    "for raw, event in tqdm(zip(raws(), events()), total=n):\n",
    "    \n",
    "    original_frequency = raw.info['sfreq']\n",
    "\n",
    "    # load the raw data\n",
    "    raw = raw.load_data()\n",
    "    subid = (raw.info['subject_info']['pid'])\n",
    "    print('Subject ID: {subid}'.format(subid=subid))\n",
    "    \n",
    "    # create a new virtual channel for the VEOG and HEOG\n",
    "    veog, _ = raw[mne.pick_channels(raw.ch_names, include=['EXG3', 'EXG4']), :]\n",
    "    veog = np.diff(veog, axis=0)\n",
    "    heog, _ = raw[mne.pick_channels(raw.ch_names, include=['EXG1', 'EXG2']), :]\n",
    "    heog = np.diff(heog, axis=0)\n",
    "    \n",
    "    new_info = mne.create_info(['VEOG', 'HEOG'], 1024, ch_types='eog')\n",
    "    raw.info['lowpass'] = new_info['lowpass'] = 1024\n",
    "    \n",
    "    # add these two new channels to the data\n",
    "    raw = raw.add_channels(\n",
    "        [mne.io.RawArray(np.concatenate([veog, heog], axis=0), new_info)]\n",
    "    )\n",
    "    \n",
    "    # drop extra channels (not used)\n",
    "    raw = raw.drop_channels(['EXG7', 'EXG8'])\n",
    "    # resample the data (w/ parallel processing)\n",
    "    raw = raw.resample(256, n_jobs = 6)\n",
    "\n",
    "\n",
    "    # set the average of the mastoids as reference\n",
    "    raw = raw.set_eeg_reference()\n",
    "    raw = raw.apply_proj()\n",
    "        \n",
    "    # filter the EOG data\n",
    "    raw = raw.filter(0.5, 15, picks=mne.pick_types(raw.info, eeg=False, eog=True), n_jobs=6)\n",
    "    # filter the EEG data (bandstop for mains and all harmonics)\n",
    "    raw = raw.notch_filter(np.arange(50, raw.info['lowpass'], 50), n_jobs=6)\n",
    "    # high-pass filter the data\n",
    "    raw = raw.filter(0.5, 45, n_jobs=6)\n",
    "    \n",
    "    \n",
    "    # Run ICA\n",
    "    # -------\n",
    "    ica_file = 'data/interim/{subid}-ica.fif.gz'.format(subid=subid)\n",
    "    # the following is only run if no ICA is present so far\n",
    "    if not os.path.isfile(ica_file):\n",
    "        # run an ICA to remove components correlated with both horizontal and vertical EOG traces\n",
    "        seed = np.random.RandomState(2017)\n",
    "        ica = mne.preprocessing.run_ica(raw, n_components=0.99, max_pca_components=64,\n",
    "                                        random_state=seed, eog_ch=['HEOG', 'VEOG'],\n",
    "                                        picks=mne.pick_types(raw.info, eeg=True))\n",
    "        # save ICA to .fif file\n",
    "        ica.save(ica_file)\n",
    "    else:\n",
    "        ica = mne.preprocessing.read_ica(ica_file)\n",
    "\n",
    "    # plot the components to be excluded:\n",
    "    ica.plot_components(picks=ica.exclude, title=subid, colorbar=True)\n",
    "    # apply the ICA correction:\n",
    "    raw = ica.apply(raw)\n",
    "\n",
    "    \n",
    "    \n",
    "    # Epoch the data\n",
    "    # --------------\n",
    "    \n",
    "    # edit the event structure to chop into 4s segments:\n",
    "    sample_frequency = raw.info['sfreq']\n",
    "    starttimes = event[(1, 3), 0] // (original_frequency / sample_frequency)\n",
    "    event = np.stack([\n",
    "        np.concatenate([np.arange(time + (segment_length / 2) * sample_frequency,\n",
    "                                  time + (60 - segment_length / 2) * sample_frequency,\n",
    "                                  segment_length * sample_frequency,\n",
    "                                  dtype=int)\n",
    "                        for time in starttimes]),\n",
    "        np.zeros((60 - segment_length) // 2, dtype=int),\n",
    "        102 + np.zeros((60 - segment_length) // 2, dtype=int)\n",
    "    ], axis=1)\n",
    "    \n",
    "    # epoch the data to include only eyes closed:\n",
    "    epochs = mne.Epochs(raw, event, event_id={'eyes closed': 102}, tmin=0, tmax=segment_length, preload=True)\n",
    "\n",
    "    \n",
    "    # Connectivity analysis\n",
    "    # ---------------------\n",
    "    connectivity_file = 'Output/{subid}_conn.csv'.format(subid=subid)\n",
    "    if not os.path.isfile(connectivity_file):\n",
    "        picks = mne.pick_types(epochs.info, eeg=True)\n",
    "        connection_pairs = mne.connectivity.seed_target_indices(picks, picks)\n",
    "        \n",
    "        # which frequency bands to use:\n",
    "        freqbands = {'theta': (4, 8), 'alpha': (8, 14), 'beta': (14, 30), 'gamma': (30, 60)}\n",
    "        fmin = np.array([f for f, _ in freqbands.values()])\n",
    "        fmax = np.array([f for _, f in freqbands.values()])\n",
    "        \n",
    "        # perform the connectivity analysis:\n",
    "        conn, freqs, times, n_epochs, n_tapers = mne.connectivity.spectral_connectivity(\n",
    "            epochs, method='wpli', mode='multitaper', fmin=fmin, fmax=fmax, faverage=True,\n",
    "            indices=connection_pairs, n_jobs=8\n",
    "        )\n",
    "        \n",
    "        # save individual arrays of each subject (there is probably a better way than to go via numpy to pandas to save this...)\n",
    "        pd.DataFrame(\n",
    "            dict(channel_1=connection_pairs[0], channel_2=connection_pairs[1],\n",
    "                 **{key: conn[:, idx] for idx, key in enumerate(freqbands.keys())})\n",
    "        ).to_csv(connectivity_file)\n"
   ]
  },
  {
   "cell_type": "code",
   "execution_count": null,
   "metadata": {},
   "outputs": [],
   "source": []
  },
  {
   "cell_type": "code",
   "execution_count": null,
   "metadata": {},
   "outputs": [],
   "source": []
  }
 ],
 "metadata": {
  "kernelspec": {
   "display_name": "Python 2",
   "language": "python",
   "name": "python2"
  },
  "language_info": {
   "codemirror_mode": {
    "name": "ipython",
    "version": 2
   },
   "file_extension": ".py",
   "mimetype": "text/x-python",
   "name": "python",
   "nbconvert_exporter": "python",
   "pygments_lexer": "ipython2",
   "version": "2.7.11"
  }
 },
 "nbformat": 4,
 "nbformat_minor": 2
}
