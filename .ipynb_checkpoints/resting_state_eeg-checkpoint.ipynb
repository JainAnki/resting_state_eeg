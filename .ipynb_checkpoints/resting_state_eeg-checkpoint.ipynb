{
 "cells": [
  {
   "cell_type": "markdown",
   "metadata": {},
   "source": [
    "Import all the relevant stuff"
   ]
  },
  {
   "cell_type": "code",
   "execution_count": 1,
   "metadata": {},
   "outputs": [
    {
     "name": "stderr",
     "output_type": "stream",
     "text": [
      "//anaconda/envs/py36/lib/python3.6/site-packages/statsmodels/compat/pandas.py:56: FutureWarning: The pandas.core.datetools module is deprecated and will be removed in a future version. Please use the pandas.tseries module instead.\n",
      "  from pandas.core import datetools\n"
     ]
    }
   ],
   "source": [
    "# eeg analysis libraries\n",
    "import mne\n",
    "\n",
    "# import plotting libraries\n",
    "from matplotlib import pyplot as plt\n",
    "import seaborn as sns\n",
    "from plotnine import *\n",
    "\n",
    "# numerical libraries\n",
    "import numpy as np\n",
    "import pandas as pd\n",
    "\n",
    "# import tqdm for a progress bar:\n",
    "try:\n",
    "    from tqdm import tqdm_notebook as tqdm\n",
    "except:\n",
    "    from tqdm import tqdm\n",
    "\n",
    "# import file path operators\n",
    "from pathlib import Path\n",
    "import os\n",
    "\n",
    "# avoid MNE being too verbose\n",
    "mne.set_log_level('ERROR')"
   ]
  },
  {
   "cell_type": "markdown",
   "metadata": {},
   "source": [
    "List all files"
   ]
  },
  {
   "cell_type": "code",
   "execution_count": 2,
   "metadata": {
    "collapsed": true
   },
   "outputs": [],
   "source": [
    "datafolder = Path('./Data')\n",
    "\n",
    "datafiles = list(datafolder.glob(pattern='*RS.bdf'))\n",
    "\n",
    "group = [f.name[3:6] for f in datafiles]\n",
    "\n",
    "pids = [f.name[7:12] for f in datafiles]"
   ]
  },
  {
   "cell_type": "code",
   "execution_count": 3,
   "metadata": {},
   "outputs": [
    {
     "data": {
      "text/plain": [
       "[PosixPath('Data/EG-CTR-0001-RS.bdf'), PosixPath('Data/EG-CTR-0025-RS.bdf')]"
      ]
     },
     "execution_count": 3,
     "metadata": {},
     "output_type": "execute_result"
    }
   ],
   "source": [
    "datafiles"
   ]
  },
  {
   "cell_type": "markdown",
   "metadata": {},
   "source": [
    "Run preprocessing"
   ]
  },
  {
   "cell_type": "code",
   "execution_count": 46,
   "metadata": {},
   "outputs": [
    {
     "data": {
      "application/vnd.jupyter.widget-view+json": {
       "model_id": "eca8bbc63fd2433aa4f1ef88d45b277f"
      }
     },
     "metadata": {},
     "output_type": "display_data"
    },
    {
     "name": "stdout",
     "output_type": "stream",
     "text": [
      "\n"
     ]
    },
    {
     "ename": "RuntimeError",
     "evalue": "raw.resample requires raw data to be loaded. Use preload=True (or string) in the constructor or raw.load_data().",
     "output_type": "error",
     "traceback": [
      "\u001b[0;31m---------------------------------------------------------------------------\u001b[0m",
      "\u001b[0;31mRuntimeError\u001b[0m                              Traceback (most recent call last)",
      "\u001b[0;32m<ipython-input-46-ff0d5d02da4b>\u001b[0m in \u001b[0;36m<module>\u001b[0;34m()\u001b[0m\n\u001b[1;32m     22\u001b[0m \u001b[0;34m\u001b[0m\u001b[0m\n\u001b[1;32m     23\u001b[0m     \u001b[0;31m# do some filtering\u001b[0m\u001b[0;34m\u001b[0m\u001b[0;34m\u001b[0m\u001b[0m\n\u001b[0;32m---> 24\u001b[0;31m     \u001b[0mraw\u001b[0m \u001b[0;34m=\u001b[0m \u001b[0mraw\u001b[0m\u001b[0;34m.\u001b[0m\u001b[0mresample\u001b[0m\u001b[0;34m(\u001b[0m\u001b[0;36m256\u001b[0m\u001b[0;34m)\u001b[0m\u001b[0;34m\u001b[0m\u001b[0m\n\u001b[0m\u001b[1;32m     25\u001b[0m     \u001b[0;31m#raw = raw.filter(50,48)\u001b[0m\u001b[0;34m\u001b[0m\u001b[0;34m\u001b[0m\u001b[0m\n\u001b[1;32m     26\u001b[0m \u001b[0;34m\u001b[0m\u001b[0m\n",
      "\u001b[0;32m//anaconda/envs/py36/lib/python3.6/site-packages/mne/io/base.py\u001b[0m in \u001b[0;36mresample\u001b[0;34m(self, sfreq, npad, window, stim_picks, n_jobs, events, verbose)\u001b[0m\n",
      "\u001b[0;32m//anaconda/envs/py36/lib/python3.6/site-packages/mne/utils.py\u001b[0m in \u001b[0;36mverbose\u001b[0;34m(function, *args, **kwargs)\u001b[0m\n\u001b[1;32m    705\u001b[0m         \u001b[0;32mwith\u001b[0m \u001b[0muse_log_level\u001b[0m\u001b[0;34m(\u001b[0m\u001b[0mverbose_level\u001b[0m\u001b[0;34m)\u001b[0m\u001b[0;34m:\u001b[0m\u001b[0;34m\u001b[0m\u001b[0m\n\u001b[1;32m    706\u001b[0m             \u001b[0;32mreturn\u001b[0m \u001b[0mfunction\u001b[0m\u001b[0;34m(\u001b[0m\u001b[0;34m*\u001b[0m\u001b[0margs\u001b[0m\u001b[0;34m,\u001b[0m \u001b[0;34m**\u001b[0m\u001b[0mkwargs\u001b[0m\u001b[0;34m)\u001b[0m\u001b[0;34m\u001b[0m\u001b[0m\n\u001b[0;32m--> 707\u001b[0;31m     \u001b[0;32mreturn\u001b[0m \u001b[0mfunction\u001b[0m\u001b[0;34m(\u001b[0m\u001b[0;34m*\u001b[0m\u001b[0margs\u001b[0m\u001b[0;34m,\u001b[0m \u001b[0;34m**\u001b[0m\u001b[0mkwargs\u001b[0m\u001b[0;34m)\u001b[0m\u001b[0;34m\u001b[0m\u001b[0m\n\u001b[0m\u001b[1;32m    708\u001b[0m \u001b[0;34m\u001b[0m\u001b[0m\n\u001b[1;32m    709\u001b[0m \u001b[0;34m\u001b[0m\u001b[0m\n",
      "\u001b[0;32m//anaconda/envs/py36/lib/python3.6/site-packages/mne/io/base.py\u001b[0m in \u001b[0;36mresample\u001b[0;34m(self, sfreq, npad, window, stim_picks, n_jobs, events, verbose)\u001b[0m\n\u001b[1;32m   1430\u001b[0m         \u001b[0martifacts\u001b[0m\u001b[0;34m.\u001b[0m \u001b[0mThis\u001b[0m \u001b[0;32mis\u001b[0m \u001b[0mdataset\u001b[0m \u001b[0mdependent\u001b[0m \u001b[0;34m-\u001b[0m\u001b[0;34m-\u001b[0m \u001b[0mcheck\u001b[0m \u001b[0myour\u001b[0m \u001b[0mdata\u001b[0m\u001b[0;31m!\u001b[0m\u001b[0;34m\u001b[0m\u001b[0m\n\u001b[1;32m   1431\u001b[0m         \"\"\"  # noqa: E501\n\u001b[0;32m-> 1432\u001b[0;31m         \u001b[0m_check_preload\u001b[0m\u001b[0;34m(\u001b[0m\u001b[0mself\u001b[0m\u001b[0;34m,\u001b[0m \u001b[0;34m'raw.resample'\u001b[0m\u001b[0;34m)\u001b[0m\u001b[0;34m\u001b[0m\u001b[0m\n\u001b[0m\u001b[1;32m   1433\u001b[0m \u001b[0;34m\u001b[0m\u001b[0m\n\u001b[1;32m   1434\u001b[0m         \u001b[0;31m# When no event object is supplied, some basic detection of dropped\u001b[0m\u001b[0;34m\u001b[0m\u001b[0;34m\u001b[0m\u001b[0m\n",
      "\u001b[0;32m//anaconda/envs/py36/lib/python3.6/site-packages/mne/io/base.py\u001b[0m in \u001b[0;36m_check_preload\u001b[0;34m(raw, msg)\u001b[0m\n\u001b[1;32m   2061\u001b[0m     \u001b[0;34m\"\"\"Ensure data are preloaded.\"\"\"\u001b[0m\u001b[0;34m\u001b[0m\u001b[0m\n\u001b[1;32m   2062\u001b[0m     \u001b[0;32mif\u001b[0m \u001b[0;32mnot\u001b[0m \u001b[0mraw\u001b[0m\u001b[0;34m.\u001b[0m\u001b[0mpreload\u001b[0m\u001b[0;34m:\u001b[0m\u001b[0;34m\u001b[0m\u001b[0m\n\u001b[0;32m-> 2063\u001b[0;31m         raise RuntimeError(msg + ' requires raw data to be loaded. Use '\n\u001b[0m\u001b[1;32m   2064\u001b[0m                            \u001b[0;34m'preload=True (or string) in the constructor or '\u001b[0m\u001b[0;34m\u001b[0m\u001b[0m\n\u001b[1;32m   2065\u001b[0m                            'raw.load_data().')\n",
      "\u001b[0;31mRuntimeError\u001b[0m: raw.resample requires raw data to be loaded. Use preload=True (or string) in the constructor or raw.load_data()."
     ]
    }
   ],
   "source": [
    "for file in tqdm(datafiles):\n",
    "    \n",
    "    # create an MNE raw structure\n",
    "    raw = mne.io.read_raw_edf(file, montage=mne.channels.read_montage('biosemi64'),eog=[f'EXG{n}' for n in range(1, 9)])\n",
    "    \n",
    "    raw.info['subject_info'] = {'pid': file.name[7:11], 'group': file.name[3:6], 'subject_id': file.name[0:11]}\n",
    "    \n",
    "    # find the trigger codes (this needs to be checked somehow to make sure we get the correct timings as \n",
    "    # they were somewhat messed up...)\n",
    "    events = mne.find_events(raw)\n",
    "    \n",
    "    # segment the data only take the second and fourth event (add in some check for the length of each epoch \n",
    "    # before selecting them)\n",
    "    epochs = [mne.Epochs(raw, events[[1,3],:], tmin=0, tmax=45, \n",
    "                         baseline=(None, 0), picks=None, \n",
    "                         name=None, preload=True, reject=None, \n",
    "                         flat=None, proj=True, decim=1, \n",
    "                         reject_tmin=None, reject_tmax=None, \n",
    "                         detrend=None, add_eeg_ref='EXG6', \n",
    "                         on_missing='error', reject_by_annotation=True, \n",
    "                         verbose=None)]\n",
    "    \n",
    "    # do some filtering\n",
    "    #raw = raw.resample(256)\n",
    "    #raw = raw.filter(50,48)\n",
    "    \n",
    "    \n"
   ]
  },
  {
   "cell_type": "code",
   "execution_count": 43,
   "metadata": {},
   "outputs": [
    {
     "data": {
      "text/plain": [
       "['Fp1',\n",
       " 'AF7',\n",
       " 'AF3',\n",
       " 'F1',\n",
       " 'F3',\n",
       " 'F5',\n",
       " 'F7',\n",
       " 'FT7',\n",
       " 'FC5',\n",
       " 'FC3',\n",
       " 'FC1',\n",
       " 'C1',\n",
       " 'C3',\n",
       " 'C5',\n",
       " 'T7',\n",
       " 'TP7',\n",
       " 'CP5',\n",
       " 'CP3',\n",
       " 'CP1',\n",
       " 'P1',\n",
       " 'P3',\n",
       " 'P5',\n",
       " 'P7',\n",
       " 'P9',\n",
       " 'PO7',\n",
       " 'PO3',\n",
       " 'O1',\n",
       " 'Iz',\n",
       " 'Oz',\n",
       " 'POz',\n",
       " 'Pz',\n",
       " 'CPz',\n",
       " 'Fpz',\n",
       " 'Fp2',\n",
       " 'AF8',\n",
       " 'AF4',\n",
       " 'AFz',\n",
       " 'Fz',\n",
       " 'F2',\n",
       " 'F4',\n",
       " 'F6',\n",
       " 'F8',\n",
       " 'FT8',\n",
       " 'FC6',\n",
       " 'FC4',\n",
       " 'FC2',\n",
       " 'FCz',\n",
       " 'Cz',\n",
       " 'C2',\n",
       " 'C4',\n",
       " 'C6',\n",
       " 'T8',\n",
       " 'TP8',\n",
       " 'CP6',\n",
       " 'CP4',\n",
       " 'CP2',\n",
       " 'P2',\n",
       " 'P4',\n",
       " 'P6',\n",
       " 'P8',\n",
       " 'P10',\n",
       " 'PO8',\n",
       " 'PO4',\n",
       " 'O2',\n",
       " 'EXG1',\n",
       " 'EXG2',\n",
       " 'EXG3',\n",
       " 'EXG4',\n",
       " 'EXG5',\n",
       " 'EXG6',\n",
       " 'EXG7',\n",
       " 'EXG8',\n",
       " 'STI 014']"
      ]
     },
     "execution_count": 43,
     "metadata": {},
     "output_type": "execute_result"
    }
   ],
   "source": [
    "raw.ch_names"
   ]
  },
  {
   "cell_type": "code",
   "execution_count": null,
   "metadata": {
    "collapsed": true
   },
   "outputs": [],
   "source": [
    "## copied from Jans MEG analysis, needs to be adapted :)\n",
    "    # crop\n",
    "    raw = raw.crop(tmin=20, tmax=500)\n",
    "    # resample\n",
    "    raw = raw.load_data()\n",
    "    raw = raw.resample(256)\n",
    "    # filter\n",
    "    # filter the MEG data (exclude line noise)\n",
    "    raw = raw.filter(0.5, 30, picks=mne.pick_types(raw.info, meg=True))\n",
    "    # filter the EOG data\n",
    "    raw = raw.filter(0.5, 15, picks=mne.pick_types(raw.info, meg=False, eog=True))\n",
    "    # filter the ECG data\n",
    "    raw = raw.filter(0.5, 15, picks=mne.pick_types(raw.info, meg=False, ecg=True))\n",
    "    # maxwell-correction\n",
    "    raw = mne.preprocessing.maxwell_filter(raw, cross_talk=str(ctfile), calibration=str(ssscal),\n",
    "                                           st_duration=10, st_correlation=0.98)\n",
    "    # pick gradiometers\n",
    "    picks = mne.pick_types(raw.info, meg='grad', eeg=False, stim=False, eog=False, exclude='bads')\n",
    "    # run an ICA\n",
    "    try:\n",
    "        ica = mne.preprocessing.run_ica(raw, n_components=0.95,\n",
    "                                        picks=picks,\n",
    "                                        eog_ch=veog, ecg_ch=ecg)\n",
    "        raw = ica.apply(raw, exclude=ica.exclude)\n",
    "    except RuntimeError:\n",
    "        continue"
   ]
  },
  {
   "cell_type": "markdown",
   "metadata": {},
   "source": [
    "Run coherence analysis on the output"
   ]
  },
  {
   "cell_type": "code",
   "execution_count": null,
   "metadata": {
    "collapsed": true
   },
   "outputs": [],
   "source": [
    "\n",
    "\n",
    "mne.connectivity.spectral_connectivity(data, method=['wpli', 'wpli2_debiased'], \n",
    "                                       indices=None, sfreq=6.283185307179586, \n",
    "                                       mode='multitaper', fmin=None, fmax=inf, \n",
    "                                       fskip=0, faverage=False, tmin=None, tmax=None, \n",
    "                                       mt_bandwidth=None, mt_adaptive=False, mt_low_bias=True, \n",
    "                                       cwt_frequencies=None, cwt_n_cycles=7, block_size=1000, \n",
    "                                       n_jobs=1, verbose=None)"
   ]
  }
 ],
 "metadata": {
  "kernelspec": {
   "display_name": "Python 3",
   "language": "python",
   "name": "python3"
  },
  "language_info": {
   "codemirror_mode": {
    "name": "ipython",
    "version": 3
   },
   "file_extension": ".py",
   "mimetype": "text/x-python",
   "name": "python",
   "nbconvert_exporter": "python",
   "pygments_lexer": "ipython3",
   "version": "3.6.1"
  }
 },
 "nbformat": 4,
 "nbformat_minor": 1
}
