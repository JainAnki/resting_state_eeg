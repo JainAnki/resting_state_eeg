{
 "cells": [
  {
   "cell_type": "markdown",
   "metadata": {},
   "source": [
    "Import all the relevant stuff"
   ]
  },
  {
   "cell_type": "code",
   "execution_count": 1,
   "metadata": {},
   "outputs": [
    {
     "name": "stderr",
     "output_type": "stream",
     "text": [
      "//anaconda/lib/python2.7/site-packages/statsmodels/compat/pandas.py:56: FutureWarning: The pandas.core.datetools module is deprecated and will be removed in a future version. Please use the pandas.tseries module instead.\n",
      "  from pandas.core import datetools\n"
     ]
    }
   ],
   "source": [
    "# eeg analysis libraries\n",
    "import mne\n",
    "\n",
    "# import plotting libraries\n",
    "from matplotlib import pyplot as plt\n",
    "# python version of ggplot:\n",
    "from plotnine import *\n",
    "\n",
    "# numerical libraries\n",
    "import numpy as np\n",
    "import pandas as pd\n",
    "\n",
    "# import tqdm for a progress bar:\n",
    "try:\n",
    "    from tqdm import tqdm_notebook as tqdm\n",
    "except:\n",
    "    from tqdm import tqdm\n",
    "\n",
    "# import file path operators\n",
    "from pathlib import Path\n",
    "import os\n",
    "\n",
    "# avoid MNE being too verbose\n",
    "mne.set_log_level('INFO')"
   ]
  },
  {
   "cell_type": "markdown",
   "metadata": {},
   "source": [
    "List all files"
   ]
  },
  {
   "cell_type": "code",
   "execution_count": 2,
   "metadata": {},
   "outputs": [
    {
     "data": {
      "text/plain": [
       "True"
      ]
     },
     "execution_count": 2,
     "metadata": {},
     "output_type": "execute_result"
    }
   ],
   "source": [
    "import data\n",
    "hasattr(data, 'raws')"
   ]
  },
  {
   "cell_type": "code",
   "execution_count": 3,
   "metadata": {},
   "outputs": [
    {
     "name": "stdout",
     "output_type": "stream",
     "text": [
      "{'group': 'CTR', 'pid': '0001'}\n",
      "{'group': 'CTR', 'pid': '0025'}\n"
     ]
    }
   ],
   "source": [
    "from data import raws, events, n\n",
    "\n",
    "for raw in raws():\n",
    "    print(raw.info['subject_info'])"
   ]
  },
  {
   "cell_type": "markdown",
   "metadata": {},
   "source": [
    "Run preprocessing"
   ]
  },
  {
   "cell_type": "code",
   "execution_count": 5,
   "metadata": {
    "scrolled": false
   },
   "outputs": [
    {
     "ename": "SyntaxError",
     "evalue": "invalid syntax (<ipython-input-5-54488fb987dc>, line 46)",
     "output_type": "error",
     "traceback": [
      "\u001b[0;36m  File \u001b[0;32m\"<ipython-input-5-54488fb987dc>\"\u001b[0;36m, line \u001b[0;32m46\u001b[0m\n\u001b[0;31m    ica_file = f'data/interim/{subid}-ica.fif.gz'\u001b[0m\n\u001b[0m                                                ^\u001b[0m\n\u001b[0;31mSyntaxError\u001b[0m\u001b[0;31m:\u001b[0m invalid syntax\n"
     ]
    }
   ],
   "source": [
    "# length of segments over which analysis is run:\n",
    "segment_length = 4\n",
    "\n",
    "for raw, event in tqdm(zip(raws(), events()), total=n):\n",
    "    \n",
    "    original_frequency = raw.info['sfreq']\n",
    "\n",
    "    # load the raw data\n",
    "    raw = raw.load_data()\n",
    "    subid = (raw.info['subject_info']['pid'])\n",
    "    \n",
    "    # create a new virtual channel for the VEOG and HEOG\n",
    "    veog, _ = raw[mne.pick_channels(raw.ch_names, include=['EXG3', 'EXG4']), :]\n",
    "    veog = np.diff(veog, axis=0)\n",
    "    heog, _ = raw[mne.pick_channels(raw.ch_names, include=['EXG1', 'EXG2']), :]\n",
    "    heog = np.diff(heog, axis=0)\n",
    "    \n",
    "    new_info = mne.create_info(['VEOG', 'HEOG'], 1024, ch_types='eog')\n",
    "    raw.info['lowpass'] = new_info['lowpass'] = 1024\n",
    "    \n",
    "    # add these two new channels to the data\n",
    "    raw = raw.add_channels(\n",
    "        [mne.io.RawArray(np.concatenate([veog, heog], axis=0), new_info)]\n",
    "    )\n",
    "    \n",
    "    # drop extra channels (not used)\n",
    "    raw = raw.drop_channels(['EXG7', 'EXG8'])\n",
    "    # resample the data (w/ parallel processing)\n",
    "    raw = raw.resample(256, n_jobs = 6)\n",
    "\n",
    "\n",
    "    # set the average of the mastoids as reference\n",
    "    raw = raw.set_eeg_reference()\n",
    "    raw = raw.apply_proj()\n",
    "        \n",
    "    # filter the EOG data\n",
    "    raw = raw.filter(0.5, 15, picks=mne.pick_types(raw.info, eeg=False, eog=True), n_jobs=6)\n",
    "    # filter the EEG data (bandstop for mains and all harmonics)\n",
    "    raw = raw.notch_filter(np.arange(50, raw.info['lowpass'], 50), n_jobs=6)\n",
    "    # high-pass filter the data\n",
    "    raw = raw.filter(0.5, 45, n_jobs=6)\n",
    "    \n",
    "    \n",
    "    # Run ICA\n",
    "    # -------\n",
    "    ica_file = f'data/interim/{subid}-ica.fif.gz'\n",
    "    # the following is only run if no ICA is present so far\n",
    "    if not os.path.isfile(ica_file):\n",
    "        # run an ICA to remove components correlated with both horizontal and vertical EOG traces\n",
    "        seed = np.random.RandomState(2017)\n",
    "        ica = mne.preprocessing.run_ica(raw, n_components=0.99, max_pca_components=64,\n",
    "                                        random_state=seed, eog_ch=['HEOG', 'VEOG'],\n",
    "                                        picks=mne.pick_types(raw.info, eeg=True))\n",
    "        # save ICA to .fif file\n",
    "        ica.save(ica_file)\n",
    "    else:\n",
    "        ica = mne.preprocessing.read_ica(ica_file)\n",
    "\n",
    "    # plot the components to be excluded:\n",
    "    ica.plot_components(picks=ica.exclude, title=subid, colorbar=True)\n",
    "    # apply the ICA correction:\n",
    "    raw = ica.apply(raw)\n",
    "\n",
    "    \n",
    "    \n",
    "    # Epoch the data\n",
    "    # --------------\n",
    "    \n",
    "    # edit the event structure to chop into 4s segments:\n",
    "    sample_frequency = raw.info['sfreq']\n",
    "    starttimes = event[(1, 3), 0] // (original_frequency / sample_frequency)\n",
    "    event = np.stack([\n",
    "        np.concatenate([np.arange(time + (segment_length / 2) * sample_frequency,\n",
    "                                  time + (60 - segment_length / 2) * sample_frequency,\n",
    "                                  segment_length * sample_frequency,\n",
    "                                  dtype=int)\n",
    "                        for time in starttimes]),\n",
    "        np.zeros((60 - segment_length) // 2, dtype=int),\n",
    "        102 + np.zeros((60 - segment_length) // 2, dtype=int)\n",
    "    ], axis=1)\n",
    "    \n",
    "    # epoch the data to include only eyes closed:\n",
    "    epochs = mne.Epochs(raw, event, event_id={'eyes closed': 102}, tmin=0, tmax=segment_length, preload=True)\n",
    "\n",
    "    \n",
    "    # Connectivity analysis\n",
    "    # ---------------------\n",
    "    connectivity_file = f'Output/{subid}_conn.csv'\n",
    "    if not os.path.isfile(connectivity_file):\n",
    "        picks = mne.pick_types(epochs.info, eeg=True)\n",
    "        connection_pairs = mne.connectivity.seed_target_indices(picks, picks)\n",
    "        \n",
    "        # which frequency bands to use:\n",
    "        freqbands = {'theta': (4, 8), 'alpha': (8, 14), 'beta': (14, 30), 'gamma': (30, 60)}\n",
    "        fmin = np.array([f for f, _ in freqbands.values()])\n",
    "        fmax = np.array([f for _, f in freqbands.values()])\n",
    "        \n",
    "        # perform the connectivity analysis:\n",
    "        conn, freqs, times, n_epochs, n_tapers = mne.connectivity.spectral_connectivity(\n",
    "            epochs, method='wpli', mode='multitaper', fmin=fmin, fmax=fmax, faverage=True,\n",
    "            indices=connection_pairs, n_jobs=8\n",
    "        )\n",
    "        \n",
    "        # save individual arrays of each subject (there is probably a better way than to go via numpy to pandas to save this...)\n",
    "        pd.DataFrame(\n",
    "            dict(channel_1=connection_pairs[0], channel_2=connection_pairs[1],\n",
    "                 **{key: conn[:, idx] for idx, key in enumerate(freqbands.keys())})\n",
    "        ).to_csv(connectivity_file)\n"
   ]
  },
  {
   "cell_type": "code",
   "execution_count": null,
   "metadata": {},
   "outputs": [],
   "source": []
  }
 ],
 "metadata": {
  "kernelspec": {
   "display_name": "Python 2",
   "language": "python",
   "name": "python2"
  },
  "language_info": {
   "codemirror_mode": {
    "name": "ipython",
    "version": 2
   },
   "file_extension": ".py",
   "mimetype": "text/x-python",
   "name": "python",
   "nbconvert_exporter": "python",
   "pygments_lexer": "ipython2",
   "version": "2.7.12"
  }
 },
 "nbformat": 4,
 "nbformat_minor": 2
}
