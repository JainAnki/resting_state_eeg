{
 "cells": [
  {
   "cell_type": "markdown",
   "metadata": {},
   "source": [
    "Import all the relevant stuff"
   ]
  },
  {
   "cell_type": "code",
   "execution_count": 1,
   "metadata": {},
   "outputs": [
    {
     "name": "stderr",
     "output_type": "stream",
     "text": [
      "//anaconda/lib/python2.7/site-packages/statsmodels/compat/pandas.py:56: FutureWarning: The pandas.core.datetools module is deprecated and will be removed in a future version. Please use the pandas.tseries module instead.\n",
      "  from pandas.core import datetools\n"
     ]
    }
   ],
   "source": [
    "# eeg analysis libraries\n",
    "import mne\n",
    "\n",
    "# import plotting libraries\n",
    "from matplotlib import pyplot as plt\n",
    "# python version of ggplot:\n",
    "from plotnine import *\n",
    "\n",
    "# numerical libraries\n",
    "import numpy as np\n",
    "import pandas as pd\n",
    "\n",
    "# import tqdm for a progress bar:\n",
    "try:\n",
    "    from tqdm import tqdm_notebook as tqdm\n",
    "except:\n",
    "    from tqdm import tqdm\n",
    "\n",
    "# import file path operators\n",
    "from pathlib import Path\n",
    "import os\n",
    "\n",
    "# avoid MNE being too verbose\n",
    "mne.set_log_level('INFO')"
   ]
  },
  {
   "cell_type": "markdown",
   "metadata": {},
   "source": [
    "List all files"
   ]
  },
  {
   "cell_type": "code",
   "execution_count": 2,
   "metadata": {},
   "outputs": [
    {
     "data": {
      "text/plain": [
       "True"
      ]
     },
     "execution_count": 2,
     "metadata": {},
     "output_type": "execute_result"
    }
   ],
   "source": [
    "import data\n",
    "hasattr(data, 'raws')"
   ]
  },
  {
   "cell_type": "code",
   "execution_count": 3,
   "metadata": {},
   "outputs": [
    {
     "name": "stdout",
     "output_type": "stream",
     "text": [
      "{'group': 'CTR', 'pid': '0001'}\n",
      "{'group': 'CTR', 'pid': '0025'}\n"
     ]
    }
   ],
   "source": [
    "from data import raws, events, n\n",
    "\n",
    "for raw in raws():\n",
    "    print(raw.info['subject_info'])"
   ]
  },
  {
   "cell_type": "markdown",
   "metadata": {},
   "source": [
    "Run preprocessing"
   ]
  },
  {
   "cell_type": "code",
   "execution_count": 4,
   "metadata": {
    "scrolled": false
   },
   "outputs": [
    {
     "data": {
      "application/vnd.jupyter.widget-view+json": {
       "model_id": "62db96bb7d354cb7b6a7192a3ba99079",
       "version_major": 2,
       "version_minor": 0
      },
      "text/plain": [
       "A Jupyter Widget"
      ]
     },
     "metadata": {},
     "output_type": "display_data"
    },
    {
     "ename": "ValueError",
     "evalue": "No stim channel found to extract event triggers.",
     "output_type": "error",
     "traceback": [
      "\u001b[0;31m---------------------------------------------------------------------------\u001b[0m",
      "\u001b[0;31mValueError\u001b[0m                                Traceback (most recent call last)",
      "\u001b[0;32m<ipython-input-4-8eaf161903de>\u001b[0m in \u001b[0;36m<module>\u001b[0;34m()\u001b[0m\n\u001b[1;32m      2\u001b[0m \u001b[0msegment_length\u001b[0m \u001b[0;34m=\u001b[0m \u001b[0;36m4\u001b[0m\u001b[0;34m\u001b[0m\u001b[0m\n\u001b[1;32m      3\u001b[0m \u001b[0;34m\u001b[0m\u001b[0m\n\u001b[0;32m----> 4\u001b[0;31m \u001b[0;32mfor\u001b[0m \u001b[0mraw\u001b[0m\u001b[0;34m,\u001b[0m \u001b[0mevent\u001b[0m \u001b[0;32min\u001b[0m \u001b[0mtqdm\u001b[0m\u001b[0;34m(\u001b[0m\u001b[0mzip\u001b[0m\u001b[0;34m(\u001b[0m\u001b[0mraws\u001b[0m\u001b[0;34m(\u001b[0m\u001b[0;34m)\u001b[0m\u001b[0;34m,\u001b[0m \u001b[0mevents\u001b[0m\u001b[0;34m(\u001b[0m\u001b[0;34m)\u001b[0m\u001b[0;34m)\u001b[0m\u001b[0;34m,\u001b[0m \u001b[0mtotal\u001b[0m\u001b[0;34m=\u001b[0m\u001b[0mn\u001b[0m\u001b[0;34m)\u001b[0m\u001b[0;34m:\u001b[0m\u001b[0;34m\u001b[0m\u001b[0m\n\u001b[0m\u001b[1;32m      5\u001b[0m \u001b[0;34m\u001b[0m\u001b[0m\n\u001b[1;32m      6\u001b[0m     \u001b[0moriginal_frequency\u001b[0m \u001b[0;34m=\u001b[0m \u001b[0mraw\u001b[0m\u001b[0;34m.\u001b[0m\u001b[0minfo\u001b[0m\u001b[0;34m[\u001b[0m\u001b[0;34m'sfreq'\u001b[0m\u001b[0;34m]\u001b[0m\u001b[0;34m\u001b[0m\u001b[0m\n",
      "\u001b[0;32m~/anaconda3/lib/python3.6/site-packages/tqdm/_tqdm_notebook.py\u001b[0m in \u001b[0;36m__iter__\u001b[0;34m(self, *args, **kwargs)\u001b[0m\n\u001b[1;32m    179\u001b[0m     \u001b[0;32mdef\u001b[0m \u001b[0m__iter__\u001b[0m\u001b[0;34m(\u001b[0m\u001b[0mself\u001b[0m\u001b[0;34m,\u001b[0m \u001b[0;34m*\u001b[0m\u001b[0margs\u001b[0m\u001b[0;34m,\u001b[0m \u001b[0;34m**\u001b[0m\u001b[0mkwargs\u001b[0m\u001b[0;34m)\u001b[0m\u001b[0;34m:\u001b[0m\u001b[0;34m\u001b[0m\u001b[0m\n\u001b[1;32m    180\u001b[0m         \u001b[0;32mtry\u001b[0m\u001b[0;34m:\u001b[0m\u001b[0;34m\u001b[0m\u001b[0m\n\u001b[0;32m--> 181\u001b[0;31m             \u001b[0;32mfor\u001b[0m \u001b[0mobj\u001b[0m \u001b[0;32min\u001b[0m \u001b[0msuper\u001b[0m\u001b[0;34m(\u001b[0m\u001b[0mtqdm_notebook\u001b[0m\u001b[0;34m,\u001b[0m \u001b[0mself\u001b[0m\u001b[0;34m)\u001b[0m\u001b[0;34m.\u001b[0m\u001b[0m__iter__\u001b[0m\u001b[0;34m(\u001b[0m\u001b[0;34m*\u001b[0m\u001b[0margs\u001b[0m\u001b[0;34m,\u001b[0m \u001b[0;34m**\u001b[0m\u001b[0mkwargs\u001b[0m\u001b[0;34m)\u001b[0m\u001b[0;34m:\u001b[0m\u001b[0;34m\u001b[0m\u001b[0m\n\u001b[0m\u001b[1;32m    182\u001b[0m                 \u001b[0;31m# return super(tqdm...) will not catch exception\u001b[0m\u001b[0;34m\u001b[0m\u001b[0;34m\u001b[0m\u001b[0m\n\u001b[1;32m    183\u001b[0m                 \u001b[0;32myield\u001b[0m \u001b[0mobj\u001b[0m\u001b[0;34m\u001b[0m\u001b[0m\n",
      "\u001b[0;32m~/anaconda3/lib/python3.6/site-packages/tqdm/_tqdm.py\u001b[0m in \u001b[0;36m__iter__\u001b[0;34m(self)\u001b[0m\n\u001b[1;32m    951\u001b[0m \"\"\", fp_write=getattr(self.fp, 'write', sys.stderr.write))\n\u001b[1;32m    952\u001b[0m \u001b[0;34m\u001b[0m\u001b[0m\n\u001b[0;32m--> 953\u001b[0;31m             \u001b[0;32mfor\u001b[0m \u001b[0mobj\u001b[0m \u001b[0;32min\u001b[0m \u001b[0miterable\u001b[0m\u001b[0;34m:\u001b[0m\u001b[0;34m\u001b[0m\u001b[0m\n\u001b[0m\u001b[1;32m    954\u001b[0m                 \u001b[0;32myield\u001b[0m \u001b[0mobj\u001b[0m\u001b[0;34m\u001b[0m\u001b[0m\n\u001b[1;32m    955\u001b[0m                 \u001b[0;31m# Update and possibly print the progressbar.\u001b[0m\u001b[0;34m\u001b[0m\u001b[0;34m\u001b[0m\u001b[0m\n",
      "\u001b[0;32m~/Dropbox/science/projects/Cambridge/resting_state_eeg/data/__init__.py\u001b[0m in \u001b[0;36mevents\u001b[0;34m()\u001b[0m\n\u001b[1;32m     34\u001b[0m     \u001b[0;32mfor\u001b[0m \u001b[0mraw\u001b[0m \u001b[0;32min\u001b[0m \u001b[0mraws\u001b[0m\u001b[0;34m(\u001b[0m\u001b[0;34m)\u001b[0m\u001b[0;34m:\u001b[0m\u001b[0;34m\u001b[0m\u001b[0m\n\u001b[1;32m     35\u001b[0m         \u001b[0;31m# find the events in the raw data\u001b[0m\u001b[0;34m\u001b[0m\u001b[0;34m\u001b[0m\u001b[0m\n\u001b[0;32m---> 36\u001b[0;31m         \u001b[0meventarray\u001b[0m \u001b[0;34m=\u001b[0m \u001b[0mmne\u001b[0m\u001b[0;34m.\u001b[0m\u001b[0mfind_events\u001b[0m\u001b[0;34m(\u001b[0m\u001b[0mraw\u001b[0m\u001b[0;34m,\u001b[0m \u001b[0mstim_channel\u001b[0m\u001b[0;34m=\u001b[0m\u001b[0;34m'Status'\u001b[0m\u001b[0;34m,\u001b[0m \u001b[0mverbose\u001b[0m\u001b[0;34m=\u001b[0m\u001b[0;34m'ERROR'\u001b[0m\u001b[0;34m)\u001b[0m\u001b[0;34m\u001b[0m\u001b[0m\n\u001b[0m\u001b[1;32m     37\u001b[0m \u001b[0;34m\u001b[0m\u001b[0m\n\u001b[1;32m     38\u001b[0m         \u001b[0;31m# throw warning if the events seem off\u001b[0m\u001b[0;34m\u001b[0m\u001b[0;34m\u001b[0m\u001b[0m\n",
      "\u001b[0;32m~/Dropbox/geek/github/mne-python/mne/event.py\u001b[0m in \u001b[0;36mfind_events\u001b[0;34m(raw, stim_channel, output, consecutive, min_duration, shortest_event, mask, uint_cast, mask_type, initial_event, verbose)\u001b[0m\n",
      "\u001b[0;32m~/Dropbox/geek/github/mne-python/mne/utils.py\u001b[0m in \u001b[0;36mverbose\u001b[0;34m(function, *args, **kwargs)\u001b[0m\n\u001b[1;32m    722\u001b[0m         \u001b[0;31m# set it back if we get an exception\u001b[0m\u001b[0;34m\u001b[0m\u001b[0;34m\u001b[0m\u001b[0m\n\u001b[1;32m    723\u001b[0m         \u001b[0;32mwith\u001b[0m \u001b[0muse_log_level\u001b[0m\u001b[0;34m(\u001b[0m\u001b[0mverbose_level\u001b[0m\u001b[0;34m)\u001b[0m\u001b[0;34m:\u001b[0m\u001b[0;34m\u001b[0m\u001b[0m\n\u001b[0;32m--> 724\u001b[0;31m             \u001b[0;32mreturn\u001b[0m \u001b[0mfunction\u001b[0m\u001b[0;34m(\u001b[0m\u001b[0;34m*\u001b[0m\u001b[0margs\u001b[0m\u001b[0;34m,\u001b[0m \u001b[0;34m**\u001b[0m\u001b[0mkwargs\u001b[0m\u001b[0;34m)\u001b[0m\u001b[0;34m\u001b[0m\u001b[0m\n\u001b[0m\u001b[1;32m    725\u001b[0m     \u001b[0;32mreturn\u001b[0m \u001b[0mfunction\u001b[0m\u001b[0;34m(\u001b[0m\u001b[0;34m*\u001b[0m\u001b[0margs\u001b[0m\u001b[0;34m,\u001b[0m \u001b[0;34m**\u001b[0m\u001b[0mkwargs\u001b[0m\u001b[0;34m)\u001b[0m\u001b[0;34m\u001b[0m\u001b[0m\n\u001b[1;32m    726\u001b[0m \u001b[0;34m\u001b[0m\u001b[0m\n",
      "\u001b[0;32m~/Dropbox/geek/github/mne-python/mne/event.py\u001b[0m in \u001b[0;36mfind_events\u001b[0;34m(raw, stim_channel, output, consecutive, min_duration, shortest_event, mask, uint_cast, mask_type, initial_event, verbose)\u001b[0m\n\u001b[1;32m    685\u001b[0m     \u001b[0mpicks\u001b[0m \u001b[0;34m=\u001b[0m \u001b[0mpick_channels\u001b[0m\u001b[0;34m(\u001b[0m\u001b[0mraw\u001b[0m\u001b[0;34m.\u001b[0m\u001b[0minfo\u001b[0m\u001b[0;34m[\u001b[0m\u001b[0;34m'ch_names'\u001b[0m\u001b[0;34m]\u001b[0m\u001b[0;34m,\u001b[0m \u001b[0minclude\u001b[0m\u001b[0;34m=\u001b[0m\u001b[0mstim_channel\u001b[0m\u001b[0;34m)\u001b[0m\u001b[0;34m\u001b[0m\u001b[0m\n\u001b[1;32m    686\u001b[0m     \u001b[0;32mif\u001b[0m \u001b[0mlen\u001b[0m\u001b[0;34m(\u001b[0m\u001b[0mpicks\u001b[0m\u001b[0;34m)\u001b[0m \u001b[0;34m==\u001b[0m \u001b[0;36m0\u001b[0m\u001b[0;34m:\u001b[0m\u001b[0;34m\u001b[0m\u001b[0m\n\u001b[0;32m--> 687\u001b[0;31m         \u001b[0;32mraise\u001b[0m \u001b[0mValueError\u001b[0m\u001b[0;34m(\u001b[0m\u001b[0;34m'No stim channel found to extract event triggers.'\u001b[0m\u001b[0;34m)\u001b[0m\u001b[0;34m\u001b[0m\u001b[0m\n\u001b[0m\u001b[1;32m    688\u001b[0m     \u001b[0mdata\u001b[0m\u001b[0;34m,\u001b[0m \u001b[0m_\u001b[0m \u001b[0;34m=\u001b[0m \u001b[0mraw\u001b[0m\u001b[0;34m[\u001b[0m\u001b[0mpicks\u001b[0m\u001b[0;34m,\u001b[0m \u001b[0;34m:\u001b[0m\u001b[0;34m]\u001b[0m\u001b[0;34m\u001b[0m\u001b[0m\n\u001b[1;32m    689\u001b[0m \u001b[0;34m\u001b[0m\u001b[0m\n",
      "\u001b[0;31mValueError\u001b[0m: No stim channel found to extract event triggers."
     ]
    }
   ],
   "source": [
    "# length of segments over which analysis is run:\n",
    "segment_length = 4\n",
    "\n",
    "for raw, event in tqdm(zip(raws(), events()), total=n):\n",
    "    \n",
    "    original_frequency = raw.info['sfreq']\n",
    "\n",
    "    # load the raw data\n",
    "    raw = raw.load_data()\n",
    "    subid = (raw.info['subject_info']['pid'])\n",
    "    \n",
    "    # create a new virtual channel for the VEOG and HEOG\n",
    "    veog, _ = raw[mne.pick_channels(raw.ch_names, include=['EXG3', 'EXG4']), :]\n",
    "    veog = np.diff(veog, axis=0)\n",
    "    heog, _ = raw[mne.pick_channels(raw.ch_names, include=['EXG1', 'EXG2']), :]\n",
    "    heog = np.diff(heog, axis=0)\n",
    "    \n",
    "    new_info = mne.create_info(['VEOG', 'HEOG'], 1024, ch_types='eog')\n",
    "    raw.info['lowpass'] = new_info['lowpass'] = 1024\n",
    "    new_info['meas_date'] = raw.info['meas_date']\n",
    "    \n",
    "    # add these two new channels to the data\n",
    "    raw = raw.add_channels(\n",
    "        [mne.io.RawArray(np.concatenate([veog, heog], axis=0), new_info)]\n",
    "    )\n",
    "    \n",
    "    # drop extra channels (not used)\n",
    "    raw = raw.drop_channels(['EXG7', 'EXG8'])\n",
    "    # resample the data (w/ parallel processing)\n",
    "    raw = raw.resample(256, n_jobs = 6)\n",
    "\n",
    "\n",
    "    # set the average of the mastoids as reference\n",
    "    raw = raw.set_eeg_reference()\n",
    "    raw = raw.apply_proj()\n",
    "        \n",
    "    # filter the EOG data\n",
    "    raw = raw.filter(0.5, 15, picks=mne.pick_types(raw.info, eeg=False, eog=True), n_jobs=6)\n",
    "    # filter the EEG data (bandstop for mains and all harmonics)\n",
    "    raw = raw.notch_filter(np.arange(50, raw.info['lowpass'], 50), n_jobs=6)\n",
    "    # high-pass filter the data\n",
    "    raw = raw.filter(0.5, 45, n_jobs=6)\n",
    "    \n",
    "    \n",
    "    # Run ICA\n",
    "    # -------\n",
    "    ica_file = f'data/interim/{subid}-ica.fif.gz'\n",
    "    # the following is only run if no ICA is present so far\n",
    "    if not os.path.isfile(ica_file):\n",
    "        # run an ICA to remove components correlated with both horizontal and vertical EOG traces\n",
    "        seed = np.random.RandomState(2017)\n",
    "        ica = mne.preprocessing.run_ica(raw, n_components=0.99, max_pca_components=64,\n",
    "                                        random_state=seed, eog_ch=['HEOG', 'VEOG'],\n",
    "                                        picks=mne.pick_types(raw.info, eeg=True))\n",
    "        # save ICA to .fif file\n",
    "        ica.save(ica_file)\n",
    "    else:\n",
    "        ica = mne.preprocessing.read_ica(ica_file)\n",
    "\n",
    "    # plot the components to be excluded:\n",
    "    ica.plot_components(picks=ica.exclude, title=subid, colorbar=True)\n",
    "    # apply the ICA correction:\n",
    "    raw = ica.apply(raw)\n",
    "\n",
    "    \n",
    "    \n",
    "    # Epoch the data\n",
    "    # --------------\n",
    "    \n",
    "    # edit the event structure to chop into 4s segments:\n",
    "    sample_frequency = raw.info['sfreq']\n",
    "    starttimes = event[(1, 3), 0] // (original_frequency / sample_frequency)\n",
    "    event = np.stack([\n",
    "        np.concatenate([np.arange(time + (segment_length / 2) * sample_frequency,\n",
    "                                  time + (60 - segment_length / 2) * sample_frequency,\n",
    "                                  segment_length * sample_frequency,\n",
    "                                  dtype=int)\n",
    "                        for time in starttimes]),\n",
    "        np.zeros((60 - segment_length) // 2, dtype=int),\n",
    "        102 + np.zeros((60 - segment_length) // 2, dtype=int)\n",
    "    ], axis=1)\n",
    "    \n",
    "    # epoch the data to include only eyes closed:\n",
    "    epochs = mne.Epochs(raw, event, event_id={'eyes closed': 102}, tmin=0, tmax=segment_length, preload=True)\n",
    "\n",
    "    \n",
    "    # Connectivity analysis\n",
    "    # ---------------------\n",
    "    connectivity_file = f'Output/{subid}_conn.csv'\n",
    "    if not os.path.isfile(connectivity_file):\n",
    "        picks = mne.pick_types(epochs.info, eeg=True)\n",
    "        connection_pairs = mne.connectivity.seed_target_indices(picks, picks)\n",
    "        \n",
    "        # which frequency bands to use:\n",
    "        freqbands = {'theta': (4, 8), 'alpha': (8, 14), 'beta': (14, 30), 'gamma': (30, 60)}\n",
    "        fmin = np.array([f for f, _ in freqbands.values()])\n",
    "        fmax = np.array([f for _, f in freqbands.values()])\n",
    "        \n",
    "        # perform the connectivity analysis:\n",
    "        conn, freqs, times, n_epochs, n_tapers = mne.connectivity.spectral_connectivity(\n",
    "            epochs, method='wpli', mode='multitaper', fmin=fmin, fmax=fmax, faverage=True,\n",
    "            indices=connection_pairs, n_jobs=8\n",
    "        )\n",
    "        \n",
    "        # save individual arrays of each subject (there is probably a better way than to go via numpy to pandas to save this...)\n",
    "        pd.DataFrame(\n",
    "            dict(channel_1=connection_pairs[0], channel_2=connection_pairs[1],\n",
    "                 **{key: conn[:, idx] for idx, key in enumerate(freqbands.keys())})\n",
    "        ).to_csv(connectivity_file)\n"
   ]
  },
  {
   "cell_type": "code",
   "execution_count": 4,
   "metadata": {},
   "outputs": [
    {
     "ename": "ImportError",
     "evalue": "No module named autoreject",
     "output_type": "error",
     "traceback": [
      "\u001b[0;31m---------------------------------------------------------------------------\u001b[0m",
      "\u001b[0;31mImportError\u001b[0m                               Traceback (most recent call last)",
      "\u001b[0;32m<ipython-input-4-77c9a24a66df>\u001b[0m in \u001b[0;36m<module>\u001b[0;34m()\u001b[0m\n\u001b[0;32m----> 1\u001b[0;31m from autoreject import (LocalAutoRejectCV, compute_thresholds,\n\u001b[0m\u001b[1;32m      2\u001b[0m                         set_matplotlib_defaults)\n\u001b[1;32m      3\u001b[0m \u001b[0;32mfrom\u001b[0m \u001b[0mfunctools\u001b[0m \u001b[0;32mimport\u001b[0m \u001b[0mpartial\u001b[0m\u001b[0;34m\u001b[0m\u001b[0m\n",
      "\u001b[0;31mImportError\u001b[0m: No module named autoreject"
     ]
    }
   ],
   "source": [
    "from autoreject import (LocalAutoRejectCV, compute_thresholds,\n",
    "                        set_matplotlib_defaults)\n",
    "from functools import partial"
   ]
  },
  {
   "cell_type": "code",
   "execution_count": null,
   "metadata": {},
   "outputs": [],
   "source": [
    "# length of segments over which analysis is run:\n",
    "segment_length = 4\n",
    "\n",
    "for raw, event in tqdm(zip(raws(), events()), total=n):\n",
    "    \n",
    "    original_frequency = raw.info['sfreq']\n",
    "\n",
    "    # load the raw data\n",
    "    raw = raw.load_data()\n",
    "    subid = (raw.info['subject_info']['pid'])\n",
    "    \n",
    "    # create a new virtual channel for the VEOG and HEOG\n",
    "    veog, _ = raw[mne.pick_channels(raw.ch_names, include=['EXG3', 'EXG4']), :]\n",
    "    veog = np.diff(veog, axis=0)\n",
    "    heog, _ = raw[mne.pick_channels(raw.ch_names, include=['EXG1', 'EXG2']), :]\n",
    "    heog = np.diff(heog, axis=0)\n",
    "    \n",
    "    new_info = mne.create_info(['VEOG', 'HEOG'], 1024, ch_types='eog')\n",
    "    raw.info['lowpass'] = new_info['lowpass'] = 1024\n",
    "    new_info['meas_date'] = raw.info['meas_date']\n",
    "    \n",
    "    # add these two new channels to the data\n",
    "    raw = raw.add_channels(\n",
    "        [mne.io.RawArray(np.concatenate([veog, heog], axis=0), new_info)]\n",
    "    )\n",
    "    \n",
    "    # drop extra channels (not used)\n",
    "    raw = raw.drop_channels(['EXG7', 'EXG8'])\n",
    "    # resample the data (w/ parallel processing)\n",
    "    raw = raw.resample(256, n_jobs = 6)\n",
    "\n",
    "\n",
    "    # set the average of the mastoids as reference\n",
    "    raw = raw.set_eeg_reference()\n",
    "    raw = raw.apply_proj()\n",
    "    \n",
    "    events_ar = mne.event.make_fixed_length_events(\n",
    "        raw, id=9999, start=0, stop=None, duration=1.0,\n",
    "        first_samp=True)\n",
    "    epochs_ar = mne.epochs.Epochs(raw, events_ar, tmin=0, tmax=1.0,\n",
    "                                  baseline=None, preload=True)\n",
    "    #epochs_ar.decimate(4)\n",
    "\n",
    "    np.random.seed(42)\n",
    "    thresh_func = partial(compute_thresholds, random_state=42, n_jobs=6)\n",
    "    ar = LocalAutoRejectCV(thresh_func=thresh_func, verbose='tqdm')\n",
    "\n",
    "    index = np.random.choice(np.arange(len(epochs_ar)),\n",
    "                             size=int(np.floor(len(epochs_ar) * 0.2)),\n",
    "                             replace=False)\n",
    "    ar.fit(epochs_ar[index])\n",
    "\n",
    "    events_win = mne.event.make_fixed_length_events(\n",
    "                raw, id=9999, start=0, stop=None, duration=1.0,\n",
    "                first_samp=True)\n",
    "    \n",
    "    epochs_win = mne.epochs.Epochs(raw, events_win, tmin=0, tmax=1.0,\n",
    "                               baseline=None, preload=True)\n",
    "    epochs_clean = ar.transform(epochs_win)\n",
    "    print(\"{:.2f}% epochs rejected (N={})\".format(\n",
    "          epochs_clean.drop_log_stats(), len(epochs_clean)))"
   ]
  },
  {
   "cell_type": "code",
   "execution_count": null,
   "metadata": {
    "collapsed": true
   },
   "outputs": [],
   "source": []
  }
 ],
 "metadata": {
  "kernelspec": {
   "display_name": "Python 2",
   "language": "python",
   "name": "python2"
  },
  "language_info": {
   "codemirror_mode": {
    "name": "ipython",
    "version": 2
   },
   "file_extension": ".py",
   "mimetype": "text/x-python",
   "name": "python",
   "nbconvert_exporter": "python",
   "pygments_lexer": "ipython2",
   "version": "2.7.12"
  }
 },
 "nbformat": 4,
 "nbformat_minor": 2
}
