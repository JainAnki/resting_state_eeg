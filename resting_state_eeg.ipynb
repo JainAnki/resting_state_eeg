{
 "cells": [
  {
   "cell_type": "markdown",
   "metadata": {},
   "source": [
    "Import all the relevant stuff"
   ]
  },
  {
   "cell_type": "code",
   "execution_count": 1,
   "metadata": {},
   "outputs": [
    {
     "name": "stderr",
     "output_type": "stream",
     "text": [
      "/Library/anaconda/envs/py36/lib/python3.6/site-packages/statsmodels/compat/pandas.py:56: FutureWarning: The pandas.core.datetools module is deprecated and will be removed in a future version. Please use the pandas.tseries module instead.\n",
      "  from pandas.core import datetools\n"
     ]
    }
   ],
   "source": [
    "# eeg analysis libraries\n",
    "import mne\n",
    "\n",
    "# import plotting libraries\n",
    "from matplotlib import pyplot as plt\n",
    "import seaborn as sns\n",
    "from plotnine import *\n",
    "\n",
    "# numerical libraries\n",
    "import numpy as np\n",
    "import pandas as pd\n",
    "\n",
    "# import tqdm for a progress bar:\n",
    "try:\n",
    "    from tqdm import tqdm_notebook as tqdm\n",
    "except:\n",
    "    from tqdm import tqdm\n",
    "\n",
    "# import file path operators\n",
    "from pathlib import Path\n",
    "import os\n",
    "\n",
    "# avoid MNE being too verbose\n",
    "mne.set_log_level('ERROR')"
   ]
  },
  {
   "cell_type": "markdown",
   "metadata": {},
   "source": [
    "List all files"
   ]
  },
  {
   "cell_type": "code",
   "execution_count": 2,
   "metadata": {
    "collapsed": true
   },
   "outputs": [
    {
     "name": "stdout",
     "output_type": "stream",
     "text": [
      "{'pid': '0001', 'group': 'CTR'}\n",
      "{'pid': '0025', 'group': 'CTR'}\n"
     ]
    }
   ],
   "source": [
    "from data import raws, events\n",
    "\n",
    "for raw in raws():\n",
    "    print(raw.info['subject_info'])"
   ]
  },
  {
   "cell_type": "markdown",
   "metadata": {},
   "source": [
    "Run preprocessing"
   ]
  },
  {
   "cell_type": "code",
   "execution_count": 21,
   "metadata": {
    "scrolled": true
   },
   "outputs": [
    {
     "name": "stdout",
     "output_type": "stream",
     "text": [
      "<Info | 15 non-empty fields\n",
      "    bads : 'list | 0 items\n",
      "    buffer_size_sec : 'float | 1.0\n",
      "    ch_names : 'list | Fp1, AF7, AF3, F1, F3, F5, F7, FT7, FC5, ...\n",
      "    chs : 'list | 73 items (EEG: 64, EOG: 6, MISC: 2, STIM: 1)\n",
      "    comps : 'list | 0 items\n",
      "    custom_ref_applied : 'bool | True\n",
      "    dev_head_t : 'mne.transforms.Transform | 3 items\n",
      "    events : 'list | 0 items\n",
      "    highpass : 'float | 0.0 Hz\n",
      "    hpi_meas : 'list | 0 items\n",
      "    hpi_results : 'list | 0 items\n",
      "    lowpass : 'float | 256.0 Hz\n",
      "    nchan : 'int | 73\n",
      "    projs : 'list | 0 items\n",
      "    sfreq : 'float | 512.0 Hz\n",
      "    acq_pars : 'NoneType\n",
      "    acq_stim : 'NoneType\n",
      "    ctf_head_t : 'NoneType\n",
      "    description : 'NoneType\n",
      "    dev_ctf_t : 'NoneType\n",
      "    dig : 'NoneType\n",
      "    experimenter : 'NoneType\n",
      "    file_id : 'NoneType\n",
      "    hpi_subsystem : 'NoneType\n",
      "    kit_system_id : 'NoneType\n",
      "    line_freq : 'NoneType\n",
      "    meas_date : 'NoneType\n",
      "    meas_id : 'NoneType\n",
      "    proj_id : 'NoneType\n",
      "    proj_name : 'NoneType\n",
      "    subject_info : 'NoneType\n",
      "    xplotter_layout : 'NoneType\n",
      ">\n"
     ]
    }
   ],
   "source": [
    "for raw, event in zip(raws(), events()):\n",
    "\n",
    "\n",
    "    # load the raw data\n",
    "    raw = raw.load_data()\n",
    "\n",
    "    # create a new virtual channel for the VEOG and HEOG\n",
    "    veog, _ = raw[mne.pick_channels(raw.ch_names, include=['EXG3', 'EXG4']), :]\n",
    "    veog = np.diff(veog, axis=0)\n",
    "    heog, _ = raw[mne.pick_channels(raw.ch_names, include=['EXG1', 'EXG2']), :]\n",
    "    heog = np.diff(heog, axis=0)\n",
    "    \n",
    "    new_info = mne.create_info(['VEOG', 'HEOG'], 1024, ch_types='eog')\n",
    "    raw.info['lowpass'] = new_info['lowpass'] = 1024\n",
    "    \n",
    "    # add these two new channels to the data\n",
    "    raw = raw.add_channels(\n",
    "        [mne.io.RawArray(np.concatenate([veog, heog], axis=0), new_info)]\n",
    "    )\n",
    "    \n",
    "    # drop extra channels (not used)\n",
    "    raw = raw.drop_channels(['EXG7', 'EXG8'])\n",
    "    # resample the data (w/ parallel processing)\n",
    "    raw = raw.resample(512, n_jobs = 6)\n",
    "\n",
    "\n",
    "    # set the average of the mastoids as reference\n",
    "    raw = raw.set_eeg_reference(['EXG5', 'EXG6'])\n",
    "    raw = raw.apply_proj()\n",
    "    \n",
    "    print(raw.info)\n",
    "    \n",
    "    # filter the EOG data\n",
    "    raw = raw.filter(0.5, 15, picks=mne.pick_types(raw.info, eeg=False, eog=True), n_jobs=6)\n",
    "    # filter the EEG data (bandstop for mains and all harmonics)\n",
    "    raw = raw.notch_filter(np.arange(50, raw.info['lowpass'], 50), n_jobs=6)\n",
    "    \n",
    "    # run an ICA to remove components correlated with both horizontal and vertical EOG traces\n",
    "    seed = np.random.RandomState(2017)\n",
    "    \n",
    "    ica = mne.preprocessing.run_ica(raw, n_components=0.99, max_pca_components=60,\n",
    "                                    random_state=seed, eog_ch=['HEOG', 'VEOG'],\n",
    "                                    picks=mne.pick_types(raw.info, eeg=True))\n"
   ]
  },
  {
   "cell_type": "markdown",
   "metadata": {},
   "source": [
    "Run coherence analysis on the output"
   ]
  },
  {
   "cell_type": "code",
   "execution_count": null,
   "metadata": {
    "collapsed": true
   },
   "outputs": [],
   "source": [
    "\n",
    "\n",
    "conn = mne.connectivity.spectral_connectivity(raw, method=['wpli', 'wpli2_debiased'], \n",
    "                                       indices=None, sfreq=6.283185307179586, \n",
    "                                       mode='multitaper', fmin=None, fmax=inf, \n",
    "                                       fskip=0, faverage=False, tmin=None, tmax=None, \n",
    "                                       mt_bandwidth=None, mt_adaptive=False, mt_low_bias=True, \n",
    "                                       cwt_frequencies=None, cwt_n_cycles=7, block_size=1000, \n",
    "                                       n_jobs=1, verbose=None)"
   ]
  }
 ],
 "metadata": {
  "kernelspec": {
   "display_name": "Python 3",
   "language": "python",
   "name": "python3"
  },
  "language_info": {
   "codemirror_mode": {
    "name": "ipython",
    "version": 3
   },
   "file_extension": ".py",
   "mimetype": "text/x-python",
   "name": "python",
   "nbconvert_exporter": "python",
   "pygments_lexer": "ipython3",
   "version": "3.6.1"
  }
 },
 "nbformat": 4,
 "nbformat_minor": 2
}
