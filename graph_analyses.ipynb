{
 "cells": [
  {
   "cell_type": "markdown",
   "metadata": {},
   "source": [
    "import useful things and load the data\n",
    "\n",
    "> installing graph-tool in Mac OS using Homebrew\n",
    "brew tap homebrew/science\n",
    "brew install graph-tool"
   ]
  },
  {
   "cell_type": "code",
   "execution_count": null,
   "metadata": {
    "collapsed": true
   },
   "outputs": [],
   "source": [
    "# eeg analysis libraries\n",
    "import mne\n",
    "\n",
    "# import plotting libraries\n",
    "from matplotlib import pyplot as plt\n",
    "# python version of ggplot:\n",
    "from plotnine import *\n",
    "\n",
    "# numerical libraries\n",
    "import numpy as np\n",
    "import pandas as pd\n",
    "\n",
    "from graph_tool.all import *"
   ]
  },
  {
   "cell_type": "markdown",
   "metadata": {},
   "source": [
    "create a graph object"
   ]
  },
  {
   "cell_type": "code",
   "execution_count": null,
   "metadata": {
    "collapsed": true
   },
   "outputs": [],
   "source": [
    "g = graph_tool.load_graph_from_csv(file_name, directed=False, eprop_types=None, \n",
    "                                   eprop_names=None, string_vals=True, hashed=False, \n",
    "                                   skip_first=True, ecols=(3, 4), \n",
    "                                   csv_options={'delimiter': ', ', 'quotechar': '\"'})"
   ]
  },
  {
   "cell_type": "markdown",
   "metadata": {},
   "source": [
    "inspect graph by plotting the minimum spanning tree"
   ]
  },
  {
   "cell_type": "code",
   "execution_count": null,
   "metadata": {
    "collapsed": true
   },
   "outputs": [],
   "source": [
    "mst = graph_tool.topology.min_spanning_tree(g, weights=None, root=None, tree_map=None)\n",
    "graph_draw(mst, pos=None, edge_color=tree, output=\"min_tree.pdf\")"
   ]
  }
 ],
 "metadata": {
  "kernelspec": {
   "display_name": "Python 3",
   "language": "python",
   "name": "python3"
  },
  "language_info": {
   "codemirror_mode": {
    "name": "ipython",
    "version": 3
   },
   "file_extension": ".py",
   "mimetype": "text/x-python",
   "name": "python",
   "nbconvert_exporter": "python",
   "pygments_lexer": "ipython3",
   "version": "3.6.1"
  }
 },
 "nbformat": 4,
 "nbformat_minor": 2
}
