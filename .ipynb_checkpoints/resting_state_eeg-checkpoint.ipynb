{
 "cells": [
  {
   "cell_type": "markdown",
   "metadata": {},
   "source": [
    "Import all the relevant stuff"
   ]
  },
  {
   "cell_type": "code",
   "execution_count": 1,
   "metadata": {
    "collapsed": false
   },
   "outputs": [
    {
     "name": "stderr",
     "output_type": "stream",
     "text": [
      "//anaconda/lib/python2.7/site-packages/statsmodels/compat/pandas.py:56: FutureWarning: The pandas.core.datetools module is deprecated and will be removed in a future version. Please use the pandas.tseries module instead.\n",
      "  from pandas.core import datetools\n"
     ]
    }
   ],
   "source": [
    "# eeg analysis libraries\n",
    "import mne\n",
    "import ssvepy\n",
    "\n",
    "# import plotting libraries\n",
    "from matplotlib import pyplot as plt\n",
    "import seaborn as sns\n",
    "from plotnine import *\n",
    "\n",
    "# numerical libraries\n",
    "import numpy as np\n",
    "import pandas as pd\n",
    "\n",
    "# import tqdm for a progress bar:\n",
    "try:\n",
    "    from tqdm import tqdm_notebook as tqdm\n",
    "except:\n",
    "    from tqdm import tqdm\n",
    "\n",
    "# import file path operators\n",
    "from pathlib import Path\n",
    "import os\n",
    "\n",
    "# avoid MNE being too verbose\n",
    "mne.set_log_level('ERROR')"
   ]
  },
  {
   "cell_type": "markdown",
   "metadata": {},
   "source": [
    "List all files"
   ]
  },
  {
   "cell_type": "code",
   "execution_count": 2,
   "metadata": {
    "collapsed": true
   },
   "outputs": [],
   "source": [
    "datafolder = Path('./Data')\n",
    "\n",
    "datafiles = list(datafolder.glob(pattern='*RS.bdf'))\n",
    "\n",
    "group = [f.name[3:6] for f in datafiles]\n",
    "\n",
    "pids = [f.name[7:12] for f in datafiles]"
   ]
  },
  {
   "cell_type": "code",
   "execution_count": 3,
   "metadata": {
    "collapsed": false
   },
   "outputs": [
    {
     "data": {
      "text/plain": [
       "[PosixPath('Data/EG-CTR-0001-RS.bdf')]"
      ]
     },
     "execution_count": 3,
     "metadata": {},
     "output_type": "execute_result"
    }
   ],
   "source": []
  },
  {
   "cell_type": "markdown",
   "metadata": {},
   "source": [
    "Run preprocessing"
   ]
  },
  {
   "cell_type": "code",
   "execution_count": null,
   "metadata": {
    "collapsed": true
   },
   "outputs": [],
   "source": [
    "for file in tqdm(datafiles):\n",
    "    \n",
    "    # create an MNE raw structure\n",
    "    raw = mne.io.read_raw_edf(file, montage=mne.channels.read_montage('biosemi64'),eog=[f'EXG{n}' for n in range(1, 9)])\n",
    "    raw.info['subject_info'] = {'pid': file.name[7:11], 'group': file.name[3:6]}\n",
    "    \n",
    "    # find the trigger codes (this needs to be checked somehow to make sure we get the correct timings as \n",
    "    # they were somewhat messed up...)\n",
    "    events = mne.find_events(raw)\n",
    "    \n",
    "    # segment the data (this needs to be checked somehow to make sure we get the correct timings as \n",
    "    # they were somewhat messed up...) Also, these event code were taken from the soc_ssvep pipeline and need\n",
    "    # to be changed\n",
    "    epochs = [mne.Epochs(\n",
    "        raw, events[events[:, 2] % 2 == a, :], tmin=0, tmax=4\n",
    "    ).set_eeg_reference().load_data().apply_proj()\n",
    "              for a in [1, 0]]\n",
    "    \n",
    "    ## copied from Jans MEG analysis, needs to be adapted :)\n",
    "    # crop\n",
    "    raw = raw.crop(tmin=20, tmax=500)\n",
    "    # resample\n",
    "    raw = raw.load_data()\n",
    "    raw = raw.resample(256)\n",
    "    # filter\n",
    "    # filter the MEG data (exclude line noise)\n",
    "    raw = raw.filter(0.5, 30, picks=mne.pick_types(raw.info, meg=True))\n",
    "    # filter the EOG data\n",
    "    raw = raw.filter(0.5, 15, picks=mne.pick_types(raw.info, meg=False, eog=True))\n",
    "    # filter the ECG data\n",
    "    raw = raw.filter(0.5, 15, picks=mne.pick_types(raw.info, meg=False, ecg=True))\n",
    "    # maxwell-correction\n",
    "    raw = mne.preprocessing.maxwell_filter(raw, cross_talk=str(ctfile), calibration=str(ssscal),\n",
    "                                           st_duration=10, st_correlation=0.98)\n",
    "    # pick gradiometers\n",
    "    picks = mne.pick_types(raw.info, meg='grad', eeg=False, stim=False, eog=False, exclude='bads')\n",
    "    # run an ICA\n",
    "    try:\n",
    "        ica = mne.preprocessing.run_ica(raw, n_components=0.95,\n",
    "                                        picks=picks,\n",
    "                                        eog_ch=veog, ecg_ch=ecg)\n",
    "        raw = ica.apply(raw, exclude=ica.exclude)\n",
    "    except RuntimeError:\n",
    "        continue"
   ]
  },
  {
   "cell_type": "markdown",
   "metadata": {},
   "source": [
    "Run coherence analysis on the output"
   ]
  },
  {
   "cell_type": "code",
   "execution_count": null,
   "metadata": {
    "collapsed": true
   },
   "outputs": [],
   "source": [
    "\n",
    "\n",
    "mne.connectivity.spectral_connectivity(data, method=['wpli', 'wpli2_debiased'], \n",
    "                                       indices=None, sfreq=6.283185307179586, \n",
    "                                       mode='multitaper', fmin=None, fmax=inf, \n",
    "                                       fskip=0, faverage=False, tmin=None, tmax=None, \n",
    "                                       mt_bandwidth=None, mt_adaptive=False, mt_low_bias=True, \n",
    "                                       cwt_frequencies=None, cwt_n_cycles=7, block_size=1000, \n",
    "                                       n_jobs=1, verbose=None)"
   ]
  }
 ],
 "metadata": {
  "kernelspec": {
   "display_name": "Python 2",
   "language": "python",
   "name": "python2"
  },
  "language_info": {
   "codemirror_mode": {
    "name": "ipython",
    "version": 2
   },
   "file_extension": ".py",
   "mimetype": "text/x-python",
   "name": "python",
   "nbconvert_exporter": "python",
   "pygments_lexer": "ipython2",
   "version": "2.7.12"
  }
 },
 "nbformat": 4,
 "nbformat_minor": 0
}
